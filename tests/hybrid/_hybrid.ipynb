{
 "cells": [
  {
   "cell_type": "code",
   "execution_count": 1,
   "id": "7b2d91b4-97fe-411b-a1c8-53bccc5dd033",
   "metadata": {},
   "outputs": [],
   "source": [
    "import optimtool as oo\n",
    "from optimtool.base import np, sp, plt"
   ]
  },
  {
   "cell_type": "markdown",
   "id": "31b22b81-8a97-4d91-84e8-ad120779e16b",
   "metadata": {},
   "source": [
    "# 混合优化算法（optimtool.hybrid）"
   ]
  },
  {
   "cell_type": "code",
   "execution_count": null,
   "id": "dbed5aa6-5d00-4de3-8b67-c9236750f062",
   "metadata": {},
   "outputs": [],
   "source": [
    "import optimtool.hybrid as oh"
   ]
  }
 ],
 "metadata": {
  "kernelspec": {
   "display_name": "Python 3.8.12 ('base')",
   "language": "python",
   "name": "python3"
  },
  "language_info": {
   "codemirror_mode": {
    "name": "ipython",
    "version": 3
   },
   "file_extension": ".py",
   "mimetype": "text/x-python",
   "name": "python",
   "nbconvert_exporter": "python",
   "pygments_lexer": "ipython3",
   "version": "3.8.12"
  },
  "vscode": {
   "interpreter": {
    "hash": "5179d32cf6ec497baf3f8a3ef987cc77c5d2dc691fdde20a56316522f61a7323"
   }
  },
  "widgets": {
   "application/vnd.jupyter.widget-state+json": {
    "state": {},
    "version_major": 2,
    "version_minor": 0
   }
  }
 },
 "nbformat": 4,
 "nbformat_minor": 5
}
